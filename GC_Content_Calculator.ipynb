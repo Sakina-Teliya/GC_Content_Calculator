{
  "nbformat": 4,
  "nbformat_minor": 0,
  "metadata": {
    "colab": {
      "provenance": []
    },
    "kernelspec": {
      "name": "python3",
      "display_name": "Python 3"
    },
    "language_info": {
      "name": "python"
    }
  },
  "cells": [
    {
      "cell_type": "code",
      "execution_count": null,
      "metadata": {
        "colab": {
          "base_uri": "https://localhost:8080/"
        },
        "id": "bGKyCpMv91DT",
        "outputId": "da2835c1-b258-4cdc-c183-15cd381985fa"
      },
      "outputs": [
        {
          "output_type": "stream",
          "name": "stdout",
          "text": [
            "Enter your DNA sequence: AACCGTTGGGGAACCCGGTTTAAGGCCGATTACCGGTCCACCGGTTACACCGATCCAGGTCAACCGT\n",
            "GC Content: 58.21%\n"
          ]
        }
      ],
      "source": [
        "# GC Content Calculator\n",
        "\n",
        "def calculate_gc_content(dna_sequence):\n",
        "    dna_sequence = dna_sequence.upper()\n",
        "    g = dna_sequence.count('G')\n",
        "    c = dna_sequence.count('C')\n",
        "    gc_percent = (g + c) / len(dna_sequence) * 100\n",
        "    return gc_percent\n",
        "\n",
        "# Get DNA sequence from user\n",
        "sequence = input(\"Enter your DNA sequence: \").strip()\n",
        "if sequence == \"\":\n",
        "  print(\"No sequence entered. Please try again.\")\n",
        "else:\n",
        "  gc = calculate_gc_content(sequence)\n",
        "  print(f\"GC Content: {gc:.2f}%\")"
      ]
    }
  ]
}